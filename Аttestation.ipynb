{
 "cells": [
  {
   "cell_type": "markdown",
   "id": "4c67cd32",
   "metadata": {},
   "source": [
    "<!--<div align=\"center\">Семинар № 2-->\n",
    "\n",
    "<div align=\"center\"><font color=#4682B4 size=4 face=\n",
    "                          \"arial black\"><em><strong>Промежуточная аттестация</strong></em></font></div>"
   ]
  },
  {
   "cell_type": "markdown",
   "id": "231506cf",
   "metadata": {},
   "source": [
    "<div class=\"alert alert-block alert-info\"><em>\n",
    "<b>Задача.</b><br>\n",
    "Проанализируйте результаты эксперимента и напишите свои рекомендации менеджеру.<br>\n",
    "</em></div>"
   ]
  },
  {
   "cell_type": "code",
   "execution_count": 1,
   "id": "8ba237be",
   "metadata": {},
   "outputs": [],
   "source": [
    "import pandas as pd\n",
    "import matplotlib.pyplot as plt\n",
    "import seaborn as sbn"
   ]
  },
  {
   "cell_type": "code",
   "execution_count": 2,
   "id": "f912110a",
   "metadata": {},
   "outputs": [
    {
     "data": {
      "text/html": [
       "<div>\n",
       "<style scoped>\n",
       "    .dataframe tbody tr th:only-of-type {\n",
       "        vertical-align: middle;\n",
       "    }\n",
       "\n",
       "    .dataframe tbody tr th {\n",
       "        vertical-align: top;\n",
       "    }\n",
       "\n",
       "    .dataframe thead th {\n",
       "        text-align: right;\n",
       "    }\n",
       "</style>\n",
       "<table border=\"1\" class=\"dataframe\">\n",
       "  <thead>\n",
       "    <tr style=\"text-align: right;\">\n",
       "      <th></th>\n",
       "      <th>userid</th>\n",
       "      <th>version</th>\n",
       "      <th>sum_gamerounds</th>\n",
       "      <th>retention_1</th>\n",
       "      <th>retention_7</th>\n",
       "    </tr>\n",
       "  </thead>\n",
       "  <tbody>\n",
       "    <tr>\n",
       "      <th>0</th>\n",
       "      <td>116</td>\n",
       "      <td>gate_30</td>\n",
       "      <td>3</td>\n",
       "      <td>0</td>\n",
       "      <td>0</td>\n",
       "    </tr>\n",
       "    <tr>\n",
       "      <th>1</th>\n",
       "      <td>337</td>\n",
       "      <td>gate_30</td>\n",
       "      <td>38</td>\n",
       "      <td>1</td>\n",
       "      <td>0</td>\n",
       "    </tr>\n",
       "    <tr>\n",
       "      <th>2</th>\n",
       "      <td>377</td>\n",
       "      <td>gate_40</td>\n",
       "      <td>165</td>\n",
       "      <td>1</td>\n",
       "      <td>0</td>\n",
       "    </tr>\n",
       "    <tr>\n",
       "      <th>3</th>\n",
       "      <td>483</td>\n",
       "      <td>gate_40</td>\n",
       "      <td>1</td>\n",
       "      <td>0</td>\n",
       "      <td>0</td>\n",
       "    </tr>\n",
       "    <tr>\n",
       "      <th>4</th>\n",
       "      <td>488</td>\n",
       "      <td>gate_40</td>\n",
       "      <td>179</td>\n",
       "      <td>1</td>\n",
       "      <td>1</td>\n",
       "    </tr>\n",
       "  </tbody>\n",
       "</table>\n",
       "</div>"
      ],
      "text/plain": [
       "   userid  version  sum_gamerounds  retention_1  retention_7\n",
       "0     116  gate_30               3            0            0\n",
       "1     337  gate_30              38            1            0\n",
       "2     377  gate_40             165            1            0\n",
       "3     483  gate_40               1            0            0\n",
       "4     488  gate_40             179            1            1"
      ]
     },
     "execution_count": 2,
     "metadata": {},
     "output_type": "execute_result"
    }
   ],
   "source": [
    "df = pd.read_excel('Results_А_B.xlsx')\n",
    "df.head()"
   ]
  },
  {
   "cell_type": "code",
   "execution_count": 3,
   "id": "9c0a8a94",
   "metadata": {},
   "outputs": [
    {
     "name": "stdout",
     "output_type": "stream",
     "text": [
      "<class 'pandas.core.frame.DataFrame'>\n",
      "RangeIndex: 90189 entries, 0 to 90188\n",
      "Data columns (total 5 columns):\n",
      " #   Column          Non-Null Count  Dtype \n",
      "---  ------          --------------  ----- \n",
      " 0   userid          90189 non-null  int64 \n",
      " 1   version         90189 non-null  object\n",
      " 2   sum_gamerounds  90189 non-null  int64 \n",
      " 3   retention_1     90189 non-null  int64 \n",
      " 4   retention_7     90189 non-null  int64 \n",
      "dtypes: int64(4), object(1)\n",
      "memory usage: 3.1+ MB\n"
     ]
    }
   ],
   "source": [
    "df.info()"
   ]
  },
  {
   "cell_type": "code",
   "execution_count": 4,
   "id": "503b2619",
   "metadata": {},
   "outputs": [
    {
     "data": {
      "text/html": [
       "<div>\n",
       "<style scoped>\n",
       "    .dataframe tbody tr th:only-of-type {\n",
       "        vertical-align: middle;\n",
       "    }\n",
       "\n",
       "    .dataframe tbody tr th {\n",
       "        vertical-align: top;\n",
       "    }\n",
       "\n",
       "    .dataframe thead th {\n",
       "        text-align: right;\n",
       "    }\n",
       "</style>\n",
       "<table border=\"1\" class=\"dataframe\">\n",
       "  <thead>\n",
       "    <tr style=\"text-align: right;\">\n",
       "      <th></th>\n",
       "      <th>userid</th>\n",
       "      <th>sum_gamerounds</th>\n",
       "      <th>retention_1</th>\n",
       "      <th>retention_7</th>\n",
       "    </tr>\n",
       "  </thead>\n",
       "  <tbody>\n",
       "    <tr>\n",
       "      <th>count</th>\n",
       "      <td>9.018900e+04</td>\n",
       "      <td>90189.000000</td>\n",
       "      <td>90189.000000</td>\n",
       "      <td>90189.000000</td>\n",
       "    </tr>\n",
       "    <tr>\n",
       "      <th>mean</th>\n",
       "      <td>4.998412e+06</td>\n",
       "      <td>51.872457</td>\n",
       "      <td>0.445210</td>\n",
       "      <td>0.186065</td>\n",
       "    </tr>\n",
       "    <tr>\n",
       "      <th>std</th>\n",
       "      <td>2.883286e+06</td>\n",
       "      <td>195.050858</td>\n",
       "      <td>0.496992</td>\n",
       "      <td>0.389161</td>\n",
       "    </tr>\n",
       "    <tr>\n",
       "      <th>min</th>\n",
       "      <td>1.160000e+02</td>\n",
       "      <td>0.000000</td>\n",
       "      <td>0.000000</td>\n",
       "      <td>0.000000</td>\n",
       "    </tr>\n",
       "    <tr>\n",
       "      <th>25%</th>\n",
       "      <td>2.512230e+06</td>\n",
       "      <td>5.000000</td>\n",
       "      <td>0.000000</td>\n",
       "      <td>0.000000</td>\n",
       "    </tr>\n",
       "    <tr>\n",
       "      <th>50%</th>\n",
       "      <td>4.995815e+06</td>\n",
       "      <td>16.000000</td>\n",
       "      <td>0.000000</td>\n",
       "      <td>0.000000</td>\n",
       "    </tr>\n",
       "    <tr>\n",
       "      <th>75%</th>\n",
       "      <td>7.496452e+06</td>\n",
       "      <td>51.000000</td>\n",
       "      <td>1.000000</td>\n",
       "      <td>0.000000</td>\n",
       "    </tr>\n",
       "    <tr>\n",
       "      <th>max</th>\n",
       "      <td>9.999861e+06</td>\n",
       "      <td>49854.000000</td>\n",
       "      <td>1.000000</td>\n",
       "      <td>1.000000</td>\n",
       "    </tr>\n",
       "  </tbody>\n",
       "</table>\n",
       "</div>"
      ],
      "text/plain": [
       "             userid  sum_gamerounds   retention_1   retention_7\n",
       "count  9.018900e+04    90189.000000  90189.000000  90189.000000\n",
       "mean   4.998412e+06       51.872457      0.445210      0.186065\n",
       "std    2.883286e+06      195.050858      0.496992      0.389161\n",
       "min    1.160000e+02        0.000000      0.000000      0.000000\n",
       "25%    2.512230e+06        5.000000      0.000000      0.000000\n",
       "50%    4.995815e+06       16.000000      0.000000      0.000000\n",
       "75%    7.496452e+06       51.000000      1.000000      0.000000\n",
       "max    9.999861e+06    49854.000000      1.000000      1.000000"
      ]
     },
     "execution_count": 4,
     "metadata": {},
     "output_type": "execute_result"
    }
   ],
   "source": [
    "df.describe()"
   ]
  },
  {
   "cell_type": "code",
   "execution_count": 5,
   "id": "122c7444",
   "metadata": {},
   "outputs": [
    {
     "name": "stdout",
     "output_type": "stream",
     "text": [
      "Общее количество неуникальных ID:  0.\n"
     ]
    }
   ],
   "source": [
    "n = df.shape[0]\n",
    "print(f'Общее количество неуникальных ID:  {n - df.userid.nunique()}.')"
   ]
  },
  {
   "cell_type": "markdown",
   "id": "64911de3",
   "metadata": {},
   "source": [
    " <font color='LimeGreen' size=3 >\n",
    " 1. 90 189 строк;<br>\n",
    " 2. пропущенных значений нет; <br>\n",
    " 3. все значения в столбце <b>'userid'</b> уникальны;</font>"
   ]
  },
  {
   "cell_type": "markdown",
   "id": "30519356",
   "metadata": {},
   "source": [
    "### Очистим данные"
   ]
  },
  {
   "cell_type": "markdown",
   "id": "e861b9d9",
   "metadata": {},
   "source": [
    "Примем, что на одну попытку приходится 1,5 минуты, тогда,играя по 12 часов в сутки, максимальное количество уровней, которые игрок может пройти за 14 дней и за 1 день :"
   ]
  },
  {
   "cell_type": "code",
   "execution_count": 6,
   "id": "f71d3dc4",
   "metadata": {},
   "outputs": [
    {
     "data": {
      "text/plain": [
       "(6720.0, 480.0)"
      ]
     },
     "execution_count": 6,
     "metadata": {},
     "output_type": "execute_result"
    }
   ],
   "source": [
    "60/1.5 * 12 * 14, 60/1.5 * 12\n"
   ]
  },
  {
   "cell_type": "markdown",
   "id": "9cbbe650",
   "metadata": {},
   "source": [
    "Удалим строки с большими значениями:"
   ]
  },
  {
   "cell_type": "code",
   "execution_count": 7,
   "id": "19e5e040",
   "metadata": {},
   "outputs": [
    {
     "data": {
      "text/html": [
       "<div>\n",
       "<style scoped>\n",
       "    .dataframe tbody tr th:only-of-type {\n",
       "        vertical-align: middle;\n",
       "    }\n",
       "\n",
       "    .dataframe tbody tr th {\n",
       "        vertical-align: top;\n",
       "    }\n",
       "\n",
       "    .dataframe thead th {\n",
       "        text-align: right;\n",
       "    }\n",
       "</style>\n",
       "<table border=\"1\" class=\"dataframe\">\n",
       "  <thead>\n",
       "    <tr style=\"text-align: right;\">\n",
       "      <th></th>\n",
       "      <th>userid</th>\n",
       "      <th>version</th>\n",
       "      <th>sum_gamerounds</th>\n",
       "      <th>retention_1</th>\n",
       "      <th>retention_7</th>\n",
       "    </tr>\n",
       "  </thead>\n",
       "  <tbody>\n",
       "    <tr>\n",
       "      <th>57702</th>\n",
       "      <td>6390605</td>\n",
       "      <td>gate_30</td>\n",
       "      <td>49854</td>\n",
       "      <td>0</td>\n",
       "      <td>1</td>\n",
       "    </tr>\n",
       "  </tbody>\n",
       "</table>\n",
       "</div>"
      ],
      "text/plain": [
       "        userid  version  sum_gamerounds  retention_1  retention_7\n",
       "57702  6390605  gate_30           49854            0            1"
      ]
     },
     "execution_count": 7,
     "metadata": {},
     "output_type": "execute_result"
    }
   ],
   "source": [
    "dd_d = df[df['sum_gamerounds'] > 6720]\n",
    "dd_d"
   ]
  },
  {
   "cell_type": "code",
   "execution_count": 8,
   "id": "b99a2174",
   "metadata": {},
   "outputs": [],
   "source": [
    "df['retention_sum'] = df.retention_1 + df.retention_7"
   ]
  },
  {
   "cell_type": "code",
   "execution_count": 9,
   "id": "f09ecdf9",
   "metadata": {},
   "outputs": [
    {
     "data": {
      "text/html": [
       "<div>\n",
       "<style scoped>\n",
       "    .dataframe tbody tr th:only-of-type {\n",
       "        vertical-align: middle;\n",
       "    }\n",
       "\n",
       "    .dataframe tbody tr th {\n",
       "        vertical-align: top;\n",
       "    }\n",
       "\n",
       "    .dataframe thead th {\n",
       "        text-align: right;\n",
       "    }\n",
       "</style>\n",
       "<table border=\"1\" class=\"dataframe\">\n",
       "  <thead>\n",
       "    <tr style=\"text-align: right;\">\n",
       "      <th></th>\n",
       "      <th>userid</th>\n",
       "      <th>version</th>\n",
       "      <th>sum_gamerounds</th>\n",
       "      <th>retention_1</th>\n",
       "      <th>retention_7</th>\n",
       "      <th>retention_sum</th>\n",
       "    </tr>\n",
       "  </thead>\n",
       "  <tbody>\n",
       "    <tr>\n",
       "      <th>80248</th>\n",
       "      <td>8882901</td>\n",
       "      <td>gate_40</td>\n",
       "      <td>547</td>\n",
       "      <td>0</td>\n",
       "      <td>0</td>\n",
       "      <td>0</td>\n",
       "    </tr>\n",
       "    <tr>\n",
       "      <th>82889</th>\n",
       "      <td>9183105</td>\n",
       "      <td>gate_30</td>\n",
       "      <td>981</td>\n",
       "      <td>0</td>\n",
       "      <td>0</td>\n",
       "      <td>0</td>\n",
       "    </tr>\n",
       "    <tr>\n",
       "      <th>83044</th>\n",
       "      <td>9200736</td>\n",
       "      <td>gate_30</td>\n",
       "      <td>829</td>\n",
       "      <td>0</td>\n",
       "      <td>0</td>\n",
       "      <td>0</td>\n",
       "    </tr>\n",
       "  </tbody>\n",
       "</table>\n",
       "</div>"
      ],
      "text/plain": [
       "        userid  version  sum_gamerounds  retention_1  retention_7  \\\n",
       "80248  8882901  gate_40             547            0            0   \n",
       "82889  9183105  gate_30             981            0            0   \n",
       "83044  9200736  gate_30             829            0            0   \n",
       "\n",
       "       retention_sum  \n",
       "80248              0  \n",
       "82889              0  \n",
       "83044              0  "
      ]
     },
     "execution_count": 9,
     "metadata": {},
     "output_type": "execute_result"
    }
   ],
   "source": [
    "dd_w = df[(df['sum_gamerounds'] > 480) & (df['retention_sum'] == 0)]\n",
    "dd_w"
   ]
  },
  {
   "cell_type": "code",
   "execution_count": 10,
   "id": "cf58159c",
   "metadata": {},
   "outputs": [
    {
     "data": {
      "text/plain": [
       "[6390605, 8882901, 9183105, 9200736]"
      ]
     },
     "execution_count": 10,
     "metadata": {},
     "output_type": "execute_result"
    }
   ],
   "source": [
    "list(dd_d.userid) + list(dd_w.userid)"
   ]
  },
  {
   "cell_type": "code",
   "execution_count": 11,
   "id": "b17e9d04",
   "metadata": {},
   "outputs": [
    {
     "data": {
      "text/plain": [
       "90185"
      ]
     },
     "execution_count": 11,
     "metadata": {},
     "output_type": "execute_result"
    }
   ],
   "source": [
    "val = list(dd_d.userid) + list(dd_w.userid)\n",
    "df_cl = df[df.userid.isin(val) == False]\n",
    "ncl = df_cl.shape[0]\n",
    "ncl"
   ]
  },
  {
   "cell_type": "markdown",
   "id": "e851823c",
   "metadata": {},
   "source": [
    "Совсем неигравшие пользователи."
   ]
  },
  {
   "cell_type": "code",
   "execution_count": 12,
   "id": "8dc8d721",
   "metadata": {},
   "outputs": [
    {
     "name": "stdout",
     "output_type": "stream",
     "text": [
      "Количество пользователей, не сыгравших ни одного раунда: 3994 или 4.4 %.\n"
     ]
    }
   ],
   "source": [
    "n0 = df[df['sum_gamerounds'] == 0].count()[0]\n",
    "print(f'Количество пользователей, не сыгравших ни одного раунда: {n0} или {n0 / n * 100:.1f} %.')"
   ]
  },
  {
   "cell_type": "markdown",
   "id": "a0ed2753",
   "metadata": {},
   "source": [
    "<font color='LimeGreen' size=3 >4. Количество пользователей, \n",
    "не сыгравших ни одного раунда: <b>3994</b> или <b>4.4 %</b>.</font>"
   ]
  },
  {
   "cell_type": "markdown",
   "id": "f24aff98",
   "metadata": {},
   "source": [
    "Удалим их."
   ]
  },
  {
   "cell_type": "code",
   "execution_count": 13,
   "id": "08ac31b5",
   "metadata": {
    "scrolled": true
   },
   "outputs": [
    {
     "name": "stdout",
     "output_type": "stream",
     "text": [
      "Число записей после очистки :  86191.\n"
     ]
    }
   ],
   "source": [
    "df_cl = df_cl[df_cl['sum_gamerounds'] != 0]\n",
    "ncl = df_cl.shape[0]\n",
    "print(f'Число записей после очистки :  {ncl}.')"
   ]
  },
  {
   "cell_type": "markdown",
   "id": "51dd411e",
   "metadata": {},
   "source": [
    "***"
   ]
  },
  {
   "cell_type": "markdown",
   "id": "49d44cda",
   "metadata": {},
   "source": [
    "Разделим данные на группы и посмотрим на их распределение по полю **'sum_gamerounds'**:"
   ]
  },
  {
   "cell_type": "code",
   "execution_count": 14,
   "id": "36754d3e",
   "metadata": {},
   "outputs": [
    {
     "name": "stdout",
     "output_type": "stream",
     "text": [
      " Количество записей в группах сопостовимо:\n",
      "  контрольная - 42760;\n",
      "     тестовая - 43431.\n"
     ]
    }
   ],
   "source": [
    "df30 = df_cl[df_cl['version'] == 'gate_30']\n",
    "df40 = df_cl[df_cl['version'] == 'gate_40']\n",
    "n_30 = df30.shape[0]\n",
    "n_40 = df40.shape[0]\n",
    "print(f' Количество записей в группах сопостовимо:\\n  контрольная - {n_30};\\n     тестовая - {n_40}.')"
   ]
  },
  {
   "cell_type": "code",
   "execution_count": 15,
   "id": "dd7c6851",
   "metadata": {
    "scrolled": false
   },
   "outputs": [
    {
     "data": {
      "image/png": "[encoded data removed]",
      "text/plain": [
       "<Figure size 1080x360 with 1 Axes>"
      ]
     },
     "metadata": {},
     "output_type": "display_data"
    }
   ],
   "source": [
    "sbn.set(rc = {'figure.figsize':(15, 5)})\n",
    "bins = [0, 5, 10, 15, 20, 25, 30, 35, 40, 45, 50, 55, 60, 65, 70, 75, 80, 85, 90, 95, 100,\n",
    "        105, 110, 115, 120, 125, 130, 135, 140, 145, 150]\n",
    "plt.hist(df30.sum_gamerounds, color='red', alpha=0.5, bins=bins)\n",
    "plt.hist(df40.sum_gamerounds, color='lime', alpha=0.5, bins=bins)\n",
    "plt.show()"
   ]
  },
  {
   "cell_type": "markdown",
   "id": "cb17ff3d",
   "metadata": {},
   "source": [
    "Визуально понятно, что данные соответствуют распределению Пуассона. Данные верные. Распределение по группам похоже."
   ]
  },
  {
   "cell_type": "code",
   "execution_count": 16,
   "id": "a828ddc0",
   "metadata": {
    "scrolled": true
   },
   "outputs": [
    {
     "data": {
      "image/png": "[encoded data removed]",
      "text/plain": [
       "<Figure size 1080x216 with 1 Axes>"
      ]
     },
     "metadata": {},
     "output_type": "display_data"
    }
   ],
   "source": [
    "sbn.set(rc = {'figure.figsize':(15, 3)})\n",
    "sbn.boxplot(data=df_cl, x='sum_gamerounds', y='version', palette=[\"pink\", \"lime\"], notch=True,\\\n",
    "            medianprops={\"color\": \"yellow\"}).set_xlim(left=0, right=150);"
   ]
  },
  {
   "cell_type": "code",
   "execution_count": 17,
   "id": "1e1f2626",
   "metadata": {},
   "outputs": [
    {
     "data": {
      "text/plain": [
       "KstestResult(statistic=0.009841013903347795, pvalue=0.030600692069887137)"
      ]
     },
     "execution_count": 17,
     "metadata": {},
     "output_type": "execute_result"
    }
   ],
   "source": [
    "import scipy.stats as st\n",
    "st.kstest(df30.sum_gamerounds, df40.sum_gamerounds)"
   ]
  },
  {
   "cell_type": "markdown",
   "id": "0ae3bc26",
   "metadata": {},
   "source": [
    "На диаграмме размаха видно небольшое увеличение раундов в тестовых данных по сравнению с контрольной группой. Тест Колмогорова-Смирнова подтверждает, что эта разница статистически значима: **pvalue < 5 %**."
   ]
  },
  {
   "cell_type": "markdown",
   "id": "5b06247b",
   "metadata": {},
   "source": [
    "***"
   ]
  },
  {
   "cell_type": "code",
   "execution_count": 18,
   "id": "9773179b",
   "metadata": {},
   "outputs": [
    {
     "name": "stdout",
     "output_type": "stream",
     "text": [
      "Не вернулись, всего  : 46437 или 51.5 %\n"
     ]
    }
   ],
   "source": [
    "df_x00 = df[df[\"retention_sum\"] == 0]\n",
    "n_x00 = df_x00[\"userid\"].count()\n",
    "print(f'Не вернулись, всего  : {n_x00} или {n_x00 / n * 100:.1f} %')"
   ]
  },
  {
   "cell_type": "markdown",
   "id": "f12ff3b0",
   "metadata": {},
   "source": [
    "<font color='LimeGreen' size=3>5. Количество пользователей, \n",
    "не вернувшихся совсем: <b>46 437</b> или <b>51,5 %</b>.</font>"
   ]
  },
  {
   "cell_type": "markdown",
   "id": "9a12b92e",
   "metadata": {},
   "source": [
    "***"
   ]
  },
  {
   "cell_type": "code",
   "execution_count": 19,
   "id": "04aa0b28",
   "metadata": {},
   "outputs": [
    {
     "data": {
      "text/html": [
       "<div>\n",
       "<style scoped>\n",
       "    .dataframe tbody tr th:only-of-type {\n",
       "        vertical-align: middle;\n",
       "    }\n",
       "\n",
       "    .dataframe tbody tr th {\n",
       "        vertical-align: top;\n",
       "    }\n",
       "\n",
       "    .dataframe thead th {\n",
       "        text-align: right;\n",
       "    }\n",
       "</style>\n",
       "<table border=\"1\" class=\"dataframe\">\n",
       "  <thead>\n",
       "    <tr style=\"text-align: right;\">\n",
       "      <th></th>\n",
       "      <th>all_30</th>\n",
       "      <th>conv_%_30</th>\n",
       "    </tr>\n",
       "    <tr>\n",
       "      <th>ret_1d_30</th>\n",
       "      <th></th>\n",
       "      <th></th>\n",
       "    </tr>\n",
       "  </thead>\n",
       "  <tbody>\n",
       "    <tr>\n",
       "      <th>0</th>\n",
       "      <td>22767</td>\n",
       "      <td>53.24</td>\n",
       "    </tr>\n",
       "    <tr>\n",
       "      <th>1</th>\n",
       "      <td>19993</td>\n",
       "      <td>46.76</td>\n",
       "    </tr>\n",
       "  </tbody>\n",
       "</table>\n",
       "</div>"
      ],
      "text/plain": [
       "           all_30  conv_%_30\n",
       "ret_1d_30                   \n",
       "0           22767      53.24\n",
       "1           19993      46.76"
      ]
     },
     "execution_count": 19,
     "metadata": {},
     "output_type": "execute_result"
    }
   ],
   "source": [
    "gr30_1 = df30.groupby(['retention_1']).agg({'userid':'count'})\n",
    "gr30_1['conv_%_30'] = gr30_1['userid'] / n_30 * 100  # Конверсия одного дня контрольной группы\n",
    "gr30_1.index.names = ['ret_1d_30']\n",
    "gr30_1.columns = ['all_30', 'conv_%_30']\n",
    "\n",
    "gr40_1 = df40.groupby(['retention_1']).agg({'userid':'count'})\n",
    "gr40_1['conv_%_40'] = gr40_1['userid'] / n_40 * 100  # Конверсия одного дня тестовой группы\n",
    "gr40_1.index.names = ['ret_1d_40']\n",
    "gr40_1.columns = ['all_40', 'conv_%_40']\n",
    "\n",
    "gr30_1.round(2)"
   ]
  },
  {
   "cell_type": "code",
   "execution_count": 20,
   "id": "10712db6",
   "metadata": {},
   "outputs": [
    {
     "data": {
      "text/html": [
       "<div>\n",
       "<style scoped>\n",
       "    .dataframe tbody tr th:only-of-type {\n",
       "        vertical-align: middle;\n",
       "    }\n",
       "\n",
       "    .dataframe tbody tr th {\n",
       "        vertical-align: top;\n",
       "    }\n",
       "\n",
       "    .dataframe thead th {\n",
       "        text-align: right;\n",
       "    }\n",
       "</style>\n",
       "<table border=\"1\" class=\"dataframe\">\n",
       "  <thead>\n",
       "    <tr style=\"text-align: right;\">\n",
       "      <th></th>\n",
       "      <th>all_40</th>\n",
       "      <th>conv_%_40</th>\n",
       "    </tr>\n",
       "    <tr>\n",
       "      <th>ret_1d_40</th>\n",
       "      <th></th>\n",
       "      <th></th>\n",
       "    </tr>\n",
       "  </thead>\n",
       "  <tbody>\n",
       "    <tr>\n",
       "      <th>0</th>\n",
       "      <td>23358</td>\n",
       "      <td>53.78</td>\n",
       "    </tr>\n",
       "    <tr>\n",
       "      <th>1</th>\n",
       "      <td>20073</td>\n",
       "      <td>46.22</td>\n",
       "    </tr>\n",
       "  </tbody>\n",
       "</table>\n",
       "</div>"
      ],
      "text/plain": [
       "           all_40  conv_%_40\n",
       "ret_1d_40                   \n",
       "0           23358      53.78\n",
       "1           20073      46.22"
      ]
     },
     "execution_count": 20,
     "metadata": {},
     "output_type": "execute_result"
    }
   ],
   "source": [
    "gr40_1.round(2)"
   ]
  },
  {
   "cell_type": "code",
   "execution_count": 21,
   "id": "237535b5",
   "metadata": {},
   "outputs": [
    {
     "name": "stdout",
     "output_type": "stream",
     "text": [
      "p-value = 2.3514161935063282 %\n"
     ]
    }
   ],
   "source": [
    "from statsmodels.stats.proportion import proportions_ztest\n",
    "s1, pv1 = proportions_ztest(count=20073, nobs=n_40, value=.4676)\n",
    "print(f'p-value = {pv1 * 100} %')"
   ]
  },
  {
   "cell_type": "markdown",
   "id": "797c46ab",
   "metadata": {},
   "source": [
    "<font color='LimeGreen' size=3>6. Ухудшение конверсии одного дня для тестовой группы статистически значимо: <b> p-value \\< 5\\% </b>.</font>"
   ]
  },
  {
   "cell_type": "code",
   "execution_count": 22,
   "id": "0bbf34d8",
   "metadata": {},
   "outputs": [
    {
     "data": {
      "text/html": [
       "<div>\n",
       "<style scoped>\n",
       "    .dataframe tbody tr th:only-of-type {\n",
       "        vertical-align: middle;\n",
       "    }\n",
       "\n",
       "    .dataframe tbody tr th {\n",
       "        vertical-align: top;\n",
       "    }\n",
       "\n",
       "    .dataframe thead th {\n",
       "        text-align: right;\n",
       "    }\n",
       "</style>\n",
       "<table border=\"1\" class=\"dataframe\">\n",
       "  <thead>\n",
       "    <tr style=\"text-align: right;\">\n",
       "      <th></th>\n",
       "      <th>all_30</th>\n",
       "      <th>conv_%_30</th>\n",
       "    </tr>\n",
       "    <tr>\n",
       "      <th>ret_7d_30</th>\n",
       "      <th></th>\n",
       "      <th></th>\n",
       "    </tr>\n",
       "  </thead>\n",
       "  <tbody>\n",
       "    <tr>\n",
       "      <th>0</th>\n",
       "      <td>34275</td>\n",
       "      <td>80.16</td>\n",
       "    </tr>\n",
       "    <tr>\n",
       "      <th>1</th>\n",
       "      <td>8485</td>\n",
       "      <td>19.84</td>\n",
       "    </tr>\n",
       "  </tbody>\n",
       "</table>\n",
       "</div>"
      ],
      "text/plain": [
       "           all_30  conv_%_30\n",
       "ret_7d_30                   \n",
       "0           34275      80.16\n",
       "1            8485      19.84"
      ]
     },
     "execution_count": 22,
     "metadata": {},
     "output_type": "execute_result"
    }
   ],
   "source": [
    "gr30_7 = df30.groupby(['retention_7']).agg({'userid':'count'})\n",
    "gr30_7['conv_%_30'] = gr30_7['userid'] / n_30 * 100  # Конверсия семи дней контрольной группы\n",
    "gr30_7.index.names = ['ret_7d_30']\n",
    "gr30_7.columns = ['all_30', 'conv_%_30']\n",
    "\n",
    "gr40_7 = df40.groupby(['retention_7']).agg({'userid':'count'})\n",
    "gr40_7['conv_%_40'] = gr40_7['userid'] / n_40 * 100  # Конверсия семи дней тестовой группы\n",
    "gr40_7.index.names = ['ret_7d_40']\n",
    "gr40_7.columns = ['all_40', 'conv_%_40']\n",
    "\n",
    "gr30_7.round(2)"
   ]
  },
  {
   "cell_type": "code",
   "execution_count": 23,
   "id": "29de3b71",
   "metadata": {},
   "outputs": [
    {
     "data": {
      "text/html": [
       "<div>\n",
       "<style scoped>\n",
       "    .dataframe tbody tr th:only-of-type {\n",
       "        vertical-align: middle;\n",
       "    }\n",
       "\n",
       "    .dataframe tbody tr th {\n",
       "        vertical-align: top;\n",
       "    }\n",
       "\n",
       "    .dataframe thead th {\n",
       "        text-align: right;\n",
       "    }\n",
       "</style>\n",
       "<table border=\"1\" class=\"dataframe\">\n",
       "  <thead>\n",
       "    <tr style=\"text-align: right;\">\n",
       "      <th></th>\n",
       "      <th>all_40</th>\n",
       "      <th>conv_%_40</th>\n",
       "    </tr>\n",
       "    <tr>\n",
       "      <th>ret_7d_40</th>\n",
       "      <th></th>\n",
       "      <th></th>\n",
       "    </tr>\n",
       "  </thead>\n",
       "  <tbody>\n",
       "    <tr>\n",
       "      <th>0</th>\n",
       "      <td>35165</td>\n",
       "      <td>80.97</td>\n",
       "    </tr>\n",
       "    <tr>\n",
       "      <th>1</th>\n",
       "      <td>8266</td>\n",
       "      <td>19.03</td>\n",
       "    </tr>\n",
       "  </tbody>\n",
       "</table>\n",
       "</div>"
      ],
      "text/plain": [
       "           all_40  conv_%_40\n",
       "ret_7d_40                   \n",
       "0           35165      80.97\n",
       "1            8266      19.03"
      ]
     },
     "execution_count": 23,
     "metadata": {},
     "output_type": "execute_result"
    }
   ],
   "source": [
    "gr40_7.round(2)"
   ]
  },
  {
   "cell_type": "code",
   "execution_count": 24,
   "id": "a54b77dd",
   "metadata": {
    "scrolled": true
   },
   "outputs": [
    {
     "name": "stdout",
     "output_type": "stream",
     "text": [
      "p-value = 0.0018116614119174318 %\n"
     ]
    }
   ],
   "source": [
    "s7, pv7 = proportions_ztest(count=8266, nobs=n_40, value=.1984)\n",
    "print(f'p-value = {pv7 * 100} %')"
   ]
  },
  {
   "cell_type": "markdown",
   "id": "3006f6b9",
   "metadata": {},
   "source": [
    "<font color='LimeGreen' size=3>7. Ухудшение конверсии семи дней для тестовой группы статистически значимо: <b>p-value < 5%</b>.</font>"
   ]
  },
  {
   "cell_type": "markdown",
   "id": "90037735",
   "metadata": {},
   "source": [
    "<div class=\"alert alert-block alert-success\"><em>\n",
    "Тест проведён качественно, данные статистически достоверны, пропуски отсутствуют, количество выбросов небольшое ( п. 2. ниже).<br>   \n",
    "С достовеностью 95 % для удержания 1 дня и 99 % для удержания 7 дней<br> \n",
    "    проведённый тест показал <b>ухудшение</b> результатов.<br><br>  \n",
    "<b>Рекомендации менеджеру :</b><br>    \n",
    "1. Перенесение неких \"ворот\" с 30-го уровня на 40-й <b>НЕ РЕКОМЕНДУЕТСЯ</b> .<br>\n",
    "2. Есть вопросы по достоверности рассчётов значений по полю 'sum_gamerounds', не понятна методика рассчёта, возможно они верны.<br>    \n",
    "3. Рекомендуется добавить поле для значений максимального уровня до которого дошёл пользователь.<br>   4. Более половины пользователей ( 51,5 %) не возвращаются вообще.<br> \n",
    "5. 4,4 % или 3994 не пршли ни одного уровня.<br><br>  \n",
    "Неоходим анализ результатов в пп. 4. и 5.\n",
    "</em></div>\n",
    "\n",
    "***"
   ]
  }
 ],
 "metadata": {
  "kernelspec": {
   "display_name": "Python 3",
   "language": "python",
   "name": "python3"
  },
  "language_info": {
   "codemirror_mode": {
    "name": "ipython",
    "version": 3
   },
   "file_extension": ".py",
   "mimetype": "text/x-python",
   "name": "python",
   "nbconvert_exporter": "python",
   "pygments_lexer": "ipython3",
   "version": "3.8.8"
  }
 },
 "nbformat": 4,
 "nbformat_minor": 5
}
